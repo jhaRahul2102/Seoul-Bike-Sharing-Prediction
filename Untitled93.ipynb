{
  "nbformat": 4,
  "nbformat_minor": 0,
  "metadata": {
    "colab": {
      "name": "Untitled93.ipynb",
      "provenance": [],
      "authorship_tag": "ABX9TyPPsvYyLG+pQWmmBhWWoNG9",
      "include_colab_link": true
    },
    "kernelspec": {
      "name": "python3",
      "display_name": "Python 3"
    },
    "language_info": {
      "name": "python"
    }
  },
  "cells": [
    {
      "cell_type": "markdown",
      "metadata": {
        "id": "view-in-github",
        "colab_type": "text"
      },
      "source": [
        "<a href=\"https://colab.research.google.com/github/jhaRahul2102/Seoul-Bike-Sharing-Prediction/blob/main/Untitled93.ipynb\" target=\"_parent\"><img src=\"https://colab.research.google.com/assets/colab-badge.svg\" alt=\"Open In Colab\"/></a>"
      ]
    },
    {
      "cell_type": "markdown",
      "source": [
        "# <b><u> Project Title : Seoul Bike Sharing Demand Prediction </u></b>"
      ],
      "metadata": {
        "id": "J7RNof1bukvg"
      }
    },
    {
      "cell_type": "markdown",
      "source": [
        "Problem Description\n",
        "Currently Rental bikes are introduced in many urban cities for the enhancement of mobility comfort. It is important to make the rental bike available and accessible to the public at the right time as it lessens the waiting time. Eventually, providing the city with a stable supply of rental bikes becomes a major concern. The crucial part is the prediction of bike count required at each hour for the stable supply of rental bikes.\n",
        "\n",
        "\n",
        "------------------------------------------------------------------------------------"
      ],
      "metadata": {
        "id": "gAYvNqscusVG"
      }
    },
    {
      "cell_type": "markdown",
      "source": [
        "## <b> Data Description </b>\n",
        "\n",
        "<b> The dataset contains weather information (Temperature, Humidity, Windspeed, Visibility, Dewpoint, Solar radiation, Snowfall, Rainfall), the number of bikes rented per hour and date information.</b>\n",
        "\n",
        "\n",
        "### <b>Attribute Information: </b>\n",
        "\n",
        "*  Date: Date on which bike was rented (Format: year-month-day)\n",
        "*  Rented Bike Count: Count of bikes rented at each hour\n",
        "*  Hour: Hour of the day\n",
        "*  Temperature: Temperature of the hour in Celsius\n",
        "*  Humidity: Humidity% of the hour\n",
        "*  Windspeed: Windspeed of the hour in m/s\n",
        "* Visibility: Visibility of the hour in units of 10m\n",
        "* Dew Point Temperature: Dew Point Temperature of the hour in Celsius\n",
        "* Solar Radiation: Solar Radiation of the hour in MJ/m2\n",
        "* Rainfall: Rainfall of the hour in mm\n",
        "* Snowfall: Snowfall of the hour in cm\n",
        "*  Seasons: 4 seasons (Winter, Spring, Summer and Autumn)\n",
        "*  Holiday: Whether the day is a Holiday or a Working Day\n",
        "*  Functional Day: Whether the day is functional for renting bikes or not.\n",
        "\n",
        "------------------------------------------------------------------------------------"
      ],
      "metadata": {
        "id": "-Q0z4T-Kuwji"
      }
    },
    {
      "cell_type": "code",
      "execution_count": null,
      "metadata": {
        "id": "taYbFpwxlaXR"
      },
      "outputs": [],
      "source": [
        " "
      ]
    }
  ]
}